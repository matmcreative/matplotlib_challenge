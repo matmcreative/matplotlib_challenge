{
 "cells": [
  {
   "cell_type": "markdown",
   "metadata": {},
   "source": [
    "## Observations and Insights"
   ]
  },
  {
   "cell_type": "markdown",
   "metadata": {},
   "source": []
  },
  {
   "cell_type": "markdown",
   "metadata": {},
   "source": [
    "## Dependencies and starter code"
   ]
  },
  {
   "cell_type": "code",
   "execution_count": 2,
   "metadata": {},
   "outputs": [
    {
     "data": {
      "text/html": [
       "<div>\n",
       "<style scoped>\n",
       "    .dataframe tbody tr th:only-of-type {\n",
       "        vertical-align: middle;\n",
       "    }\n",
       "\n",
       "    .dataframe tbody tr th {\n",
       "        vertical-align: top;\n",
       "    }\n",
       "\n",
       "    .dataframe thead th {\n",
       "        text-align: right;\n",
       "    }\n",
       "</style>\n",
       "<table border=\"1\" class=\"dataframe\">\n",
       "  <thead>\n",
       "    <tr style=\"text-align: right;\">\n",
       "      <th></th>\n",
       "      <th>Mouse ID</th>\n",
       "      <th>Drug Regimen</th>\n",
       "      <th>Sex</th>\n",
       "      <th>Age_months</th>\n",
       "      <th>Weight (g)</th>\n",
       "      <th>Timepoint</th>\n",
       "      <th>Tumor Volume (mm3)</th>\n",
       "      <th>Metastatic Sites</th>\n",
       "    </tr>\n",
       "  </thead>\n",
       "  <tbody>\n",
       "    <tr>\n",
       "      <th>0</th>\n",
       "      <td>k403</td>\n",
       "      <td>Ramicane</td>\n",
       "      <td>Male</td>\n",
       "      <td>21</td>\n",
       "      <td>16</td>\n",
       "      <td>0</td>\n",
       "      <td>45.000000</td>\n",
       "      <td>0</td>\n",
       "    </tr>\n",
       "    <tr>\n",
       "      <th>1</th>\n",
       "      <td>k403</td>\n",
       "      <td>Ramicane</td>\n",
       "      <td>Male</td>\n",
       "      <td>21</td>\n",
       "      <td>16</td>\n",
       "      <td>5</td>\n",
       "      <td>38.825898</td>\n",
       "      <td>0</td>\n",
       "    </tr>\n",
       "    <tr>\n",
       "      <th>2</th>\n",
       "      <td>k403</td>\n",
       "      <td>Ramicane</td>\n",
       "      <td>Male</td>\n",
       "      <td>21</td>\n",
       "      <td>16</td>\n",
       "      <td>10</td>\n",
       "      <td>35.014271</td>\n",
       "      <td>1</td>\n",
       "    </tr>\n",
       "    <tr>\n",
       "      <th>3</th>\n",
       "      <td>k403</td>\n",
       "      <td>Ramicane</td>\n",
       "      <td>Male</td>\n",
       "      <td>21</td>\n",
       "      <td>16</td>\n",
       "      <td>15</td>\n",
       "      <td>34.223992</td>\n",
       "      <td>1</td>\n",
       "    </tr>\n",
       "    <tr>\n",
       "      <th>4</th>\n",
       "      <td>k403</td>\n",
       "      <td>Ramicane</td>\n",
       "      <td>Male</td>\n",
       "      <td>21</td>\n",
       "      <td>16</td>\n",
       "      <td>20</td>\n",
       "      <td>32.997729</td>\n",
       "      <td>1</td>\n",
       "    </tr>\n",
       "    <tr>\n",
       "      <th>...</th>\n",
       "      <td>...</td>\n",
       "      <td>...</td>\n",
       "      <td>...</td>\n",
       "      <td>...</td>\n",
       "      <td>...</td>\n",
       "      <td>...</td>\n",
       "      <td>...</td>\n",
       "      <td>...</td>\n",
       "    </tr>\n",
       "    <tr>\n",
       "      <th>1888</th>\n",
       "      <td>z969</td>\n",
       "      <td>Naftisol</td>\n",
       "      <td>Male</td>\n",
       "      <td>9</td>\n",
       "      <td>30</td>\n",
       "      <td>25</td>\n",
       "      <td>63.145652</td>\n",
       "      <td>2</td>\n",
       "    </tr>\n",
       "    <tr>\n",
       "      <th>1889</th>\n",
       "      <td>z969</td>\n",
       "      <td>Naftisol</td>\n",
       "      <td>Male</td>\n",
       "      <td>9</td>\n",
       "      <td>30</td>\n",
       "      <td>30</td>\n",
       "      <td>65.841013</td>\n",
       "      <td>3</td>\n",
       "    </tr>\n",
       "    <tr>\n",
       "      <th>1890</th>\n",
       "      <td>z969</td>\n",
       "      <td>Naftisol</td>\n",
       "      <td>Male</td>\n",
       "      <td>9</td>\n",
       "      <td>30</td>\n",
       "      <td>35</td>\n",
       "      <td>69.176246</td>\n",
       "      <td>4</td>\n",
       "    </tr>\n",
       "    <tr>\n",
       "      <th>1891</th>\n",
       "      <td>z969</td>\n",
       "      <td>Naftisol</td>\n",
       "      <td>Male</td>\n",
       "      <td>9</td>\n",
       "      <td>30</td>\n",
       "      <td>40</td>\n",
       "      <td>70.314904</td>\n",
       "      <td>4</td>\n",
       "    </tr>\n",
       "    <tr>\n",
       "      <th>1892</th>\n",
       "      <td>z969</td>\n",
       "      <td>Naftisol</td>\n",
       "      <td>Male</td>\n",
       "      <td>9</td>\n",
       "      <td>30</td>\n",
       "      <td>45</td>\n",
       "      <td>73.867845</td>\n",
       "      <td>4</td>\n",
       "    </tr>\n",
       "  </tbody>\n",
       "</table>\n",
       "<p>1893 rows × 8 columns</p>\n",
       "</div>"
      ],
      "text/plain": [
       "     Mouse ID Drug Regimen   Sex  Age_months  Weight (g)  Timepoint  \\\n",
       "0        k403     Ramicane  Male          21          16          0   \n",
       "1        k403     Ramicane  Male          21          16          5   \n",
       "2        k403     Ramicane  Male          21          16         10   \n",
       "3        k403     Ramicane  Male          21          16         15   \n",
       "4        k403     Ramicane  Male          21          16         20   \n",
       "...       ...          ...   ...         ...         ...        ...   \n",
       "1888     z969     Naftisol  Male           9          30         25   \n",
       "1889     z969     Naftisol  Male           9          30         30   \n",
       "1890     z969     Naftisol  Male           9          30         35   \n",
       "1891     z969     Naftisol  Male           9          30         40   \n",
       "1892     z969     Naftisol  Male           9          30         45   \n",
       "\n",
       "      Tumor Volume (mm3)  Metastatic Sites  \n",
       "0              45.000000                 0  \n",
       "1              38.825898                 0  \n",
       "2              35.014271                 1  \n",
       "3              34.223992                 1  \n",
       "4              32.997729                 1  \n",
       "...                  ...               ...  \n",
       "1888           63.145652                 2  \n",
       "1889           65.841013                 3  \n",
       "1890           69.176246                 4  \n",
       "1891           70.314904                 4  \n",
       "1892           73.867845                 4  \n",
       "\n",
       "[1893 rows x 8 columns]"
      ]
     },
     "execution_count": 2,
     "metadata": {},
     "output_type": "execute_result"
    }
   ],
   "source": [
    "# Dependencies and Setup\n",
    "import matplotlib.pyplot as plt\n",
    "import pandas as pd\n",
    "import scipy.stats as st\n",
    "\n",
    "# Study data files\n",
    "mouse_metadata = \"data/Mouse_metadata.csv\"\n",
    "study_results = \"data/Study_results.csv\"\n",
    "\n",
    "# Read the mouse data and the study results\n",
    "mouse_metadata = pd.read_csv(mouse_metadata)\n",
    "study_results = pd.read_csv(study_results)\n",
    "\n",
    "# Combine the data into a single dataset\n",
    "study_data = pd.merge(mouse_metadata, study_results, on='Mouse ID')\n",
    "\n",
    "# Display the table\n",
    "study_data"
   ]
  },
  {
   "cell_type": "markdown",
   "metadata": {},
   "source": [
    "## Summary statistics"
   ]
  },
  {
   "cell_type": "code",
   "execution_count": 3,
   "metadata": {},
   "outputs": [
    {
     "data": {
      "text/html": [
       "<div>\n",
       "<style scoped>\n",
       "    .dataframe tbody tr th:only-of-type {\n",
       "        vertical-align: middle;\n",
       "    }\n",
       "\n",
       "    .dataframe tbody tr th {\n",
       "        vertical-align: top;\n",
       "    }\n",
       "\n",
       "    .dataframe thead th {\n",
       "        text-align: right;\n",
       "    }\n",
       "</style>\n",
       "<table border=\"1\" class=\"dataframe\">\n",
       "  <thead>\n",
       "    <tr style=\"text-align: right;\">\n",
       "      <th></th>\n",
       "      <th>Trials</th>\n",
       "      <th>Mean</th>\n",
       "      <th>Median</th>\n",
       "      <th>Standard Deviation</th>\n",
       "      <th>Variance</th>\n",
       "      <th>SEM</th>\n",
       "    </tr>\n",
       "    <tr>\n",
       "      <th>Drug Regimen</th>\n",
       "      <th></th>\n",
       "      <th></th>\n",
       "      <th></th>\n",
       "      <th></th>\n",
       "      <th></th>\n",
       "      <th></th>\n",
       "    </tr>\n",
       "  </thead>\n",
       "  <tbody>\n",
       "    <tr>\n",
       "      <th>Capomulin</th>\n",
       "      <td>230</td>\n",
       "      <td>40.675741</td>\n",
       "      <td>41.557809</td>\n",
       "      <td>4.994774</td>\n",
       "      <td>24.947764</td>\n",
       "      <td>0.329346</td>\n",
       "    </tr>\n",
       "    <tr>\n",
       "      <th>Ceftamin</th>\n",
       "      <td>178</td>\n",
       "      <td>52.591172</td>\n",
       "      <td>51.776157</td>\n",
       "      <td>6.268188</td>\n",
       "      <td>39.290177</td>\n",
       "      <td>0.469821</td>\n",
       "    </tr>\n",
       "    <tr>\n",
       "      <th>Infubinol</th>\n",
       "      <td>178</td>\n",
       "      <td>52.884795</td>\n",
       "      <td>51.820584</td>\n",
       "      <td>6.567243</td>\n",
       "      <td>43.128684</td>\n",
       "      <td>0.492236</td>\n",
       "    </tr>\n",
       "    <tr>\n",
       "      <th>Ketapril</th>\n",
       "      <td>188</td>\n",
       "      <td>55.235638</td>\n",
       "      <td>53.698743</td>\n",
       "      <td>8.279709</td>\n",
       "      <td>68.553577</td>\n",
       "      <td>0.603860</td>\n",
       "    </tr>\n",
       "    <tr>\n",
       "      <th>Naftisol</th>\n",
       "      <td>186</td>\n",
       "      <td>54.331565</td>\n",
       "      <td>52.509285</td>\n",
       "      <td>8.134708</td>\n",
       "      <td>66.173479</td>\n",
       "      <td>0.596466</td>\n",
       "    </tr>\n",
       "  </tbody>\n",
       "</table>\n",
       "</div>"
      ],
      "text/plain": [
       "              Trials       Mean     Median  Standard Deviation   Variance  \\\n",
       "Drug Regimen                                                                \n",
       "Capomulin        230  40.675741  41.557809            4.994774  24.947764   \n",
       "Ceftamin         178  52.591172  51.776157            6.268188  39.290177   \n",
       "Infubinol        178  52.884795  51.820584            6.567243  43.128684   \n",
       "Ketapril         188  55.235638  53.698743            8.279709  68.553577   \n",
       "Naftisol         186  54.331565  52.509285            8.134708  66.173479   \n",
       "\n",
       "                   SEM  \n",
       "Drug Regimen            \n",
       "Capomulin     0.329346  \n",
       "Ceftamin      0.469821  \n",
       "Infubinol     0.492236  \n",
       "Ketapril      0.603860  \n",
       "Naftisol      0.596466  "
      ]
     },
     "execution_count": 3,
     "metadata": {},
     "output_type": "execute_result"
    },
    {
     "data": {
      "text/plain": [
       "<Figure size 432x288 with 0 Axes>"
      ]
     },
     "metadata": {},
     "output_type": "display_data"
    }
   ],
   "source": [
    "# Generate a summary statistics table of mean, median, variance, standard deviation, and SEM of the tumor volume for each regimen\n",
    "#Create inital summary table with Drug Regimes and counts\n",
    "summarystats = pd.DataFrame(study_data.groupby(\"Drug Regimen\").count())\n",
    "\n",
    "#Use groupby to create summary stats by drug regime, add results into columns in summarystats\n",
    "\n",
    "summarystats[\"Mean\"] = pd.DataFrame(study_data.groupby(\"Drug Regimen\")[\"Tumor Volume (mm3)\"].mean())\n",
    "summarystats[\"Median\"] = pd.DataFrame(study_data.groupby(\"Drug Regimen\")[\"Tumor Volume (mm3)\"].median())\n",
    "summarystats[\"Standard Deviation\"] = pd.DataFrame(study_data.groupby(\"Drug Regimen\")[\"Tumor Volume (mm3)\"].std())\n",
    "summarystats[\"Variance\"] = pd.DataFrame(study_data.groupby(\"Drug Regimen\")[\"Tumor Volume (mm3)\"].var())\n",
    "summarystats[\"SEM\"] = pd.DataFrame(study_data.groupby(\"Drug Regimen\")[\"Tumor Volume (mm3)\"].sem())\n",
    "\n",
    "#Clean up columns, just keeping a count column for some of the graphs below\n",
    "summarystats = summarystats[[\"Mouse ID\", \"Mean\", \"Median\", \"Standard Deviation\", \"Variance\", \"SEM\"]]\n",
    "\n",
    "#Rename count column\n",
    "summarystats = summarystats.rename(columns = {\"Mouse ID\" : \"Trials\"})\n",
    "plt.savefig('summarystats.png')\n",
    "summarystats.head()"
   ]
  },
  {
   "cell_type": "markdown",
   "metadata": {},
   "source": [
    "## Bar plots"
   ]
  },
  {
   "cell_type": "code",
   "execution_count": 94,
   "metadata": {},
   "outputs": [
    {
     "data": {
      "image/png": "iVBORw0KGgoAAAANSUhEUgAAAlYAAADOCAYAAAD8D0wYAAAABHNCSVQICAgIfAhkiAAAAAlwSFlzAAALEgAACxIB0t1+/AAAADh0RVh0U29mdHdhcmUAbWF0cGxvdGxpYiB2ZXJzaW9uMy4xLjEsIGh0dHA6Ly9tYXRwbG90bGliLm9yZy8QZhcZAAAXtklEQVR4nO3de5SddX3v8feHmznclYRbgoa2wEEgBowQa1WQI3cFvFSwCIKWdh0U9DQcQboKa1mUc7R1SU/llBYVFMNNPaAgSilgsYgkXEIQUNQIYyLEIIgQIAnf88d+Qjdxkkwyz86embxfa83ae/+ey+/77JnZ85nf79nPTlUhSZKk4dug3wVIkiSNFQYrSZKklhisJEmSWmKwkiRJaonBSpIkqSUGK0mSpJYYrCSNOknemOTBftchSSsyWEljUJJ5SRYneSrJE0n+I8lfJllnv/NJzkmyJMnvump4fRv7rqp/r6rd2thXr6Xj1CRzkzydZCDJlUn26nG/k5NUko162Y+klzJYSWPX26pqC+BVwHnAx4CLVrZykg17UMPlVbU5MB64CbiyB32MdJ8DTgNOBV4B7Ar8P+DwfhYlqTcMVtIYV1VPVtU1wHuAE5LsCZDkS0kuSHJdkqeBA5LcnOSDy7dN8v4kt3Y9PijJg0meTPL5JLd0r7+KGpYClwITk0zo2t8RSe7uGtGa0rVsnyR3NaNuVya5PMnfNsv2TzLQte68JKcnmdOMCl2UZLsk3262/9ckL+9af3rT3xNJ7kmyf9eym5N8Isn3m22/m2T8mj7vzb52AU4Bjq2qf6uq56rqmaq6tKrOa9bZKsklSRYm+UWSv14+stiM+n2la38vGYVaTa3fa26faEYNWxktlLRqBitpPVFVPwQGgDd2Nb8XOBfYArh1sO2Wa/5gXwWcCWwDPAj88VD6TrIJcDywCPhN07YP8AXgL5r9/RNwTZKXNet/A/gSnVGemcDRq+nmncBb6YwIvQ34NvBxOqNlG9AZMSLJROBa4G+bfc8AvtYd+Og8LycC2wKbNOusjQOBgea5X5l/ALYC/gB4M53n6cQ16GNltb6pud26qjavqtvWpHBJa8dgJa1f5tMJE8tdXVXfr6oXqurZ1Wx7GHBfVX29GYE6H/jVarb50yRPAIuBPwfe1WxL8/ifqur2qlpWVRcDzwHTm6+NgPOraklVfR1YVTgB+IeqerSqfgn8O3B7Vd1VVc/RCWl7N+sdB1xXVdc1x30DMKs5vuW+WFU/rqrFwBXA1NX0vTLbAAtWtrCZfn0PcGZVPVVV84C/A963Bn20VaukFhispPXLRODxrsePrMG2O3avX51PcB9Y+eoAXFFVWwPbAXOB13YtexXwV8103BNNANup6WdH4Jf10k+JX12tj3bdXzzI4827+n33Cv3+CbBD1/rdgfGZrm1foplq/F3z9WeDrLJohf2uaDydUaZfdLX9gs73aaiGVKukdcNgJa0nkryOzh/s7im/WmG1p4FNux5v33V/ATCpa3/pfrwqVfVrOlN+5yRZHjQeAc6tqq27vjatqplNXxObPpbbaSh9DcEjwJdX6Hez5ec8rYmqOrSZZtu8qi4dZJUbgUlJpq1kF78GltAJe8u9Evhlc39V34/VlrcG60pqicFKGuOSbJnkCOAy4CtVde8qVr8beEeSTZP8EfCBrmXXAnslOao5efoU1uAPfVU9AHwH+J9N0z8Df5lkv+aSBJslOTzJFsBtwDLgQ0k2SnIksO9Q+1qNrwBvS3Jwkg2TjGtOhh9SSFwTVfUT4PPAzKaPTZr+jklyRlUtozN9d26SLZK8CvgfTY3Q+X68Kckrk2xF5/y2oVoIvEDn3C1J64jBShq7vpnkKTojNGcBf8/qT4r+LPA8nWm0i+m8kw94cdTp3cD/pjPF9Wo65yY9twY1fRo4Ocm2VTWLznlW/4fOCe0PAe9v+noeeAedYPcEnfOivrWGfQ2qqh4BjqRzYvtCOs/P6fTu9fBUOsf4j3SO5ad0TsT/ZrP8w3RGpn5GZzTxq3RO6qc5/+tyYA4wm85zMCRV9QydNyZ8v5nynN7GwUhatbz0FAZJGprmkgADwJ9V1U3roL/bgf9bVV/sdV+StLYcsZI0ZM302dZJXkZnxCfAD3rU15uTbN9MBZ4ATAGu70VfktQWP+pA0pp4PZ2pqk2AHwFHNW/z74Xd6Jx/tDmd6bN3VdVKL10gSSOBU4GSJEktcSpQkiSpJSNiKnD8+PE1efLkfpchSZK0WrNnz/51VU0YbNmICFaTJ09m1qxZ/S5DkiRptZL8YmXLnAqUJElqicFKkiSpJQYrSZKkloyIc6wkSVK7lixZwsDAAM8++2y/Sxm1xo0bx6RJk9h4442HvI3BSpKkMWhgYIAtttiCyZMnk6Tf5Yw6VcWiRYsYGBhg5513HvJ2TgVKkjQGPfvss2yzzTaGqrWUhG222WaNR/xG9YjV5DOuXaf9zTvv8HXanyRJw2GoGp61ef5GdbCSJGlF/tOtfjJYSZK0Hmg7cA4lUCbhuOOO48tf/jIAS5cuZYcddmC//fbjW9/6Vqv1rM4555zD5ptvzowZM3j/+9/PLbfcwpZbbsnixYuZPn06n/rUp5g4ceKw+/EcK0mS1BObbbYZc+fOZfHixQDccMMNrYSXNnz605/mnnvu4cEHH2TvvffmgAMO4Pnnnx/2fg1WkiSpZw499FCuvbYzWjZz5kyOPfbYF5c9/vjjHHXUUUyZMoXp06czZ84coDO69JnPfObF9fbcc0/mzZvH008/zeGHH85rXvMa9txzTy6//HIAZs+ezZvf/GZe+9rXcvDBB7NgwYIh15eEj370o2y//fZ8+9vfHvbxGqwkSVLPHHPMMVx22WU8++yzzJkzh/322+/FZWeffTZ77703c+bM4ZOf/CTHH3/8Kvd1/fXXs+OOO3LPPfcwd+5cDjnkEJYsWcKHP/xhrrrqKmbPns1JJ53EWWedtcZ17rPPPjzwwANrvN2KPMdKkiT1zJQpU5g3bx4zZ87ksMMOe8myW2+9la997WsAvOUtb2HRokU8+eSTK93XXnvtxYwZM/jYxz7GEUccwRvf+Ebmzp3L3Llzeetb3wrAsmXL2GGHHda4zqpa420GY7CSJEk99fa3v50ZM2Zw8803s2jRohfbBwszSdhoo4144YUXXmxbfi2pXXfdldmzZ3Pddddx5plnctBBB3H00Uezxx57cNtttw2rxrvuuosDDzxwWPsApwIlSVKPnXTSSfzN3/wNe+2110va3/SmN3HppZcCcPPNNzN+/Hi23HJLJk+ezJ133gnAnXfeyc9//nMA5s+fz6abbspxxx3HjBkzuPPOO9ltt91YuHDhi8FqyZIl3HfffUOurao4//zzWbBgAYcccsiwj9URK0mS1gP9vN7WpEmTOO20036v/ZxzzuHEE09kypQpbLrpplx88cUAvPOd7+SSSy5h6tSpvO51r2PXXXcF4N577+X0009ngw02YOONN+aCCy5gk0024aqrruLUU0/lySefZOnSpXzkIx9hjz32WGVNp59+Op/4xCd45plnmD59OjfddBObbLLJsI81bc0pDse0adNq1qxZa7ydF4GTJK3Ivw0d999/P7vvvnu/yxj1Bnsek8yuqmmDre9UoCRJUksMVpIkSS0xWEmSNEaNhNN9RrO1ef4MVpIkjUHjxo1j0aJFhqu1VFUsWrSIcePGrdF2vitQkqQxaNKkSQwMDLBw4cJ+lzJqjRs3jkmTJq3RNgYrSZLGoI033pidd96532Wsd1Y7FZhkpyQ3Jbk/yX1JTmvaX5HkhiQ/aW5f3rQnyflJHkoyJ8k+vT4ISZKkkWAo51gtBf6qqnYHpgOnJHk1cAZwY1XtAtzYPAY4FNil+ToZuKD1qiVJkkag1QarqlpQVXc2958C7gcmAkcCFzerXQwc1dw/ErikOn4AbJ1kzT8NUZIkaZRZo3cFJpkM7A3cDmxXVQugE76AbZvVJgKPdG020LStuK+Tk8xKMssT6yRJ0lgw5GCVZHPga8BHquq3q1p1kLbfe69nVV1YVdOqatqECROGWoYkSdKINaRglWRjOqHq0qr6etP86PIpvub2saZ9ANipa/NJwPx2ypUkSRq5hvKuwAAXAfdX1d93LboGOKG5fwJwdVf78c27A6cDTy6fMpQkSRrLhnIdqzcA7wPuTXJ30/Zx4DzgiiQfAB4G3t0suw44DHgIeAY4sdWKJUmSRqjVBququpXBz5sCOHCQ9Qs4ZZh1SZIkjTp+VqAkSVJLDFaSJEkt8bMCpR6ZfMa166yveecdvs76kiStnCNWkiRJLXHEStIaW5ejceCInKTRwxErSZKklhisJEmSWuJUoCStwKlOjWRj+Y0xY+F3zxErSZKkljhiNYKNheS+KmP9+CRJ6x9HrCRJklpisJIkSWqJwUqSJKklBitJkqSWGKwkSZJaYrCSJElqicFKkiSpJQYrSZKklhisJEmSWmKwkiRJaonBSpIkqSV+VqAkrWf8nE6pdxyxkiRJaonBSpIkqSUGK0mSpJasNlgl+UKSx5LM7Wo7J8kvk9zdfB3WtezMJA8leTDJwb0qXJIkaaQZyojVl4BDBmn/bFVNbb6uA0jyauAYYI9mm88n2bCtYiVJkkay1Qarqvoe8PgQ93ckcFlVPVdVPwceAvYdRn2SJEmjxnDOsfpQkjnNVOHLm7aJwCNd6ww0bb8nyclJZiWZtXDhwmGUIUmSNDKsbbC6APhDYCqwAPi7pj2DrFuD7aCqLqyqaVU1bcKECWtZhiRJ0sixVsGqqh6tqmVV9QLwz/zndN8AsFPXqpOA+cMrUZIkaXRYq2CVZIeuh0cDy98xeA1wTJKXJdkZ2AX44fBKlCRJGh1W+5E2SWYC+wPjkwwAZwP7J5lKZ5pvHvAXAFV1X5IrgB8BS4FTqmpZb0qXJEkaWVYbrKrq2EGaL1rF+ucC5w6nKEmSpNHIK69LkiS1xGAlSZLUEoOVJElSSwxWkiRJLTFYSZIktcRgJUmS1BKDlSRJUksMVpIkSS0xWEmSJLXEYCVJktQSg5UkSVJLDFaSJEktMVhJkiS1xGAlSZLUEoOVJElSSwxWkiRJLTFYSZIktcRgJUmS1BKDlSRJUksMVpIkSS0xWEmSJLXEYCVJktQSg5UkSVJLDFaSJEktMVhJkiS1ZLXBKskXkjyWZG5X2yuS3JDkJ83ty5v2JDk/yUNJ5iTZp5fFS5IkjSRDGbH6EnDICm1nADdW1S7Ajc1jgEOBXZqvk4EL2ilTkiRp5FttsKqq7wGPr9B8JHBxc/9i4Kiu9kuq4wfA1kl2aKtYSZKkkWxtz7HarqoWADS32zbtE4FHutYbaNp+T5KTk8xKMmvhwoVrWYYkSdLI0fbJ6xmkrQZbsaourKppVTVtwoQJLZchSZK07q1tsHp0+RRfc/tY0z4A7NS13iRg/tqXJ0mSNHqsbbC6BjihuX8CcHVX+/HNuwOnA08unzKUJEka6zZa3QpJZgL7A+OTDABnA+cBVyT5APAw8O5m9euAw4CHgGeAE3tQsyRJ0oi02mBVVceuZNGBg6xbwCnDLUqSJGk08srrkiRJLTFYSZIktcRgJUmS1BKDlSRJUksMVpIkSS0xWEmSJLXEYCVJktQSg5UkSVJLDFaSJEktMVhJkiS1xGAlSZLUEoOVJElSSwxWkiRJLTFYSZIktcRgJUmS1BKDlSRJUksMVpIkSS0xWEmSJLXEYCVJktQSg5UkSVJLDFaSJEktMVhJkiS1xGAlSZLUEoOVJElSSwxWkiRJLdloOBsnmQc8BSwDllbVtCSvAC4HJgPzgD+tqt8Mr0xJkqSRr40RqwOqampVTWsenwHcWFW7ADc2jyVJksa8XkwFHglc3Ny/GDiqB31IkiSNOMMNVgV8N8nsJCc3bdtV1QKA5nbbwTZMcnKSWUlmLVy4cJhlSJIk9d+wzrEC3lBV85NsC9yQ5IGhblhVFwIXAkybNq2GWYckSVLfDWvEqqrmN7ePAd8A9gUeTbIDQHP72HCLlCRJGg3WOlgl2SzJFsvvAwcBc4FrgBOa1U4Arh5ukZIkSaPBcKYCtwO+kWT5fr5aVdcnuQO4IskHgIeBdw+/TEmSpJFvrYNVVf0MeM0g7YuAA4dTlCRJ0mjkldclSZJaYrCSJElqicFKkiSpJQYrSZKklhisJEmSWmKwkiRJaonBSpIkqSUGK0mSpJYYrCRJklpisJIkSWqJwUqSJKklBitJkqSWGKwkSZJaYrCSJElqicFKkiSpJQYrSZKklhisJEmSWmKwkiRJaonBSpIkqSUGK0mSpJYYrCRJklpisJIkSWqJwUqSJKklBitJkqSW9CxYJTkkyYNJHkpyRq/6kSRJGil6EqySbAj8I3Ao8Grg2CSv7kVfkiRJI0WvRqz2BR6qqp9V1fPAZcCRPepLkiRpREhVtb/T5F3AIVX1webx+4D9qupDXeucDJzcPNwNeLD1QlZuPPDrddjfuubxjW5j+fjG8rGBxzfaeXyj17o+tldV1YTBFmzUow4zSNtLElxVXQhc2KP+VynJrKqa1o++1wWPb3Qby8c3lo8NPL7RzuMbvUbSsfVqKnAA2Knr8SRgfo/6kiRJGhF6FazuAHZJsnOSTYBjgGt61JckSdKI0JOpwKpamuRDwHeADYEvVNV9vehrLfVlCnId8vhGt7F8fGP52MDjG+08vtFrxBxbT05elyRJWh955XVJkqSWGKwkSZJaYrCSJElqicFKkiSpJb26QOiIkuS/0vlInYl0LlQ6H7imqu7va2FareZ7NxG4vap+19V+SFVd37/K2pFkX6Cq6o7m8zQPAR6oquv6XFpPJLmkqo7vdx29kORP6Hyc19yq+m6/6xmuJPsB91fVb5P8F+AMYB/gR8Anq+rJvhY4TElOBb5RVY/0u5a2dV3maH5V/WuS9wJ/DNwPXFhVS/paYAuS/CFwNJ1rZi4FfgLMHAk/l2P+XYFJPgYcS+fzCgea5kl0fuguq6rz+lVbryU5saq+2O861lbzwncKnReDqcBpVXV1s+zOqtqnn/UNV5Kz6XxQ+UbADcB+wM3AfwO+U1Xn9q+64Uuy4rXrAhwA/BtAVb19nRfVoiQ/rKp9m/t/Tudn9RvAQcA3R/trS5L7gNc0l8+5EHgGuAo4sGl/R18LHKYkTwJPAz8FZgJXVtXC/lbVjiSX0nld2RR4Atgc+Dqd712q6oQ+ljdszd+GtwG3AIcBdwO/oRO0/ntV3dy/6taPYPVjYI8VE3qT6O+rql36U1nvJXm4ql7Z7zrWVpJ7gddX1e+STKbzov7lqvpckruqau++FjhMzfFNBV4G/AqY1DU6cHtVTelrgcOU5E46oxv/QmekOHT+gB0DUFW39K+64ev+GUxyB3BYVS1Mshnwg6raq78VDk+S+6tq9+b+S/6RSXJ3VU3tX3XDl+Qu4LV0/pF5D/B2YDadn9GvV9VTfSxvWJLMqaopSTYCfgnsWFXLkgS4Zwy8ttwLTG2OaVPguqraP8krgav7/bdhfZgKfAHYEfjFCu07NMtGtSRzVrYI2G5d1tIDGy6f/quqeUn2B65K8ioG/zzK0WZpVS0Dnkny06r6LUBVLU4y6n82gWnAacBZwOlVdXeSxaM9UHXZIMnL6ZyrmuWjHVX1dJKl/S2tFXO7Rr3vSTKtqmYl2RUY9VNJdKbgXwC+C3w3ycZ0RpCPBT4DDPoBu6PEBs3gwWZ0Rq22Ah6n80/cxv0srEUbAcvoHNMWAFX1cPN97Kv1IVh9BLgxyU+A5XPprwT+CPhQ36pqz3bAwXSGQbsF+I91X06rfpVkalXdDdCMXB0BfAEY1aMBjeeTbFpVz9D5zxmAJFsxBkJ/80frs0mubG4fZWy95mxFZ4QjQCXZvqp+lWRzxkbw/yDwuSR/DfwauC3JI3ReRz/Y18ra8ZLvUTOrcQ1wTTNqPJpdBDxA55NPzgKuTPIzYDqd02JGu38B7kjyA+BNwP8CSDKBToDsqzE/FQiQZAM6J5VOpPPLNADc0YwWjGpJLgK+WFW3DrLsq1X13j6U1Yokk+iM6vxqkGVvqKrv96Gs1iR5WVU9N0j7eGCHqrq3D2X1TJLDgTdU1cf7XUsvNVMT21XVz/tdSxuSbAH8AZ1QPFBVj/a5pFYk2bWqftzvOnolyY4AVTU/ydZ0pjwfrqof9reydiTZA9idzptFHuh3Pd3Wi2AlSZK0LngdK0mSpJYYrCRJklpisJIkSWqJwUqSJKkl/x//piDlPbLI/gAAAABJRU5ErkJggg==\n",
      "text/plain": [
       "<Figure size 720x216 with 1 Axes>"
      ]
     },
     "metadata": {
      "needs_background": "light"
     },
     "output_type": "display_data"
    }
   ],
   "source": [
    "# Generate a bar plot showing number of data points for each treatment regimen using pandas\n",
    "\n",
    "table_df = pd.DataFrame(study_data.groupby([\"Drug Regimen\"]).count()).reset_index()\n",
    "\n",
    "datapoints = table_df[[\"Drug Regimen\", \"Mouse ID\"]]\n",
    "datapoints.plot(kind=\"bar\",figsize=(10,3))\n",
    "plt.title(\"Drug Regimen - Count\")\n",
    "plt.show()"
   ]
  },
  {
   "cell_type": "code",
   "execution_count": 95,
   "metadata": {},
   "outputs": [
    {
     "data": {
      "image/png": "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\n",
      "text/plain": [
       "<Figure size 432x288 with 1 Axes>"
      ]
     },
     "metadata": {
      "needs_background": "light"
     },
     "output_type": "display_data"
    },
    {
     "data": {
      "text/plain": [
       "<Figure size 432x288 with 0 Axes>"
      ]
     },
     "metadata": {},
     "output_type": "display_data"
    }
   ],
   "source": [
    "# Generate a bar plot showing number of data points for each treatment regimen using pyplot\n",
    "\n",
    "# Filter the DataFrame down only to those columns to chart\n",
    "datapoints = summarystats[[\"Trials\"]]\n",
    "\n",
    "# Use DataFrame.plot() in order to create a bar chart of the data\n",
    "datapoints.plot(kind=\"bar\", color = \"b\", legend=False)\n",
    "\n",
    "# Set a title for the chart\n",
    "plt.title(\"Trials per Drug Regime\")\n",
    "plt.ylabel(\"Number of Data Points\")\n",
    "plt.show()\n",
    "# plt.tight_layout()\n",
    "plt.savefig('Data points by Drug')\n"
   ]
  },
  {
   "cell_type": "markdown",
   "metadata": {},
   "source": [
    "## Pie plots"
   ]
  },
  {
   "cell_type": "code",
   "execution_count": 96,
   "metadata": {},
   "outputs": [],
   "source": [
    "# Generate a pie plot showing the distribution of female versus male mice using pandas\n",
    "gender_df=pd.DataFrame(study_data.groupby([\"Sex\"],).count()).reset_index()\n",
    "gender_df = gender_df[[\"Sex\",\"Mouse ID\"]]\n",
    "gender_df = gender_df.rename(columns={\"Mouse ID\": \"Count\"})\n",
    "plt.show()"
   ]
  },
  {
   "cell_type": "code",
   "execution_count": 97,
   "metadata": {},
   "outputs": [
    {
     "data": {
      "text/plain": [
       "<matplotlib.axes._subplots.AxesSubplot at 0x1a1dff8250>"
      ]
     },
     "execution_count": 97,
     "metadata": {},
     "output_type": "execute_result"
    },
    {
     "data": {
      "image/png": "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\n",
      "text/plain": [
       "<Figure size 720x432 with 1 Axes>"
      ]
     },
     "metadata": {},
     "output_type": "display_data"
    }
   ],
   "source": [
    "# Generate a pie plot showing the distribution of female versus male mice using pyplot\n",
    "plt.figure(figsize=(10,6))\n",
    "ax1 = plt.subplot(121, aspect='equal')\n",
    "gender_df.plot(kind='pie', y = \"Count\", ax=ax1, autopct='%1.1f%%', \n",
    " startangle=85, shadow=True, labels=gender_df['Sex'], legend = False, fontsize=12)\n"
   ]
  },
  {
   "cell_type": "markdown",
   "metadata": {},
   "source": [
    "## Quartiles, outliers and boxplots"
   ]
  },
  {
   "cell_type": "code",
   "execution_count": 98,
   "metadata": {},
   "outputs": [
    {
     "data": {
      "text/html": [
       "<div>\n",
       "<style scoped>\n",
       "    .dataframe tbody tr th:only-of-type {\n",
       "        vertical-align: middle;\n",
       "    }\n",
       "\n",
       "    .dataframe tbody tr th {\n",
       "        vertical-align: top;\n",
       "    }\n",
       "\n",
       "    .dataframe thead th {\n",
       "        text-align: right;\n",
       "    }\n",
       "</style>\n",
       "<table border=\"1\" class=\"dataframe\">\n",
       "  <thead>\n",
       "    <tr style=\"text-align: right;\">\n",
       "      <th></th>\n",
       "      <th>Tumor Volume (mm3)</th>\n",
       "    </tr>\n",
       "    <tr>\n",
       "      <th>Mouse ID</th>\n",
       "      <th></th>\n",
       "    </tr>\n",
       "  </thead>\n",
       "  <tbody>\n",
       "    <tr>\n",
       "      <td>a203</td>\n",
       "      <td>563.127077</td>\n",
       "    </tr>\n",
       "    <tr>\n",
       "      <td>a251</td>\n",
       "      <td>552.370946</td>\n",
       "    </tr>\n",
       "    <tr>\n",
       "      <td>a262</td>\n",
       "      <td>586.116306</td>\n",
       "    </tr>\n",
       "    <tr>\n",
       "      <td>a275</td>\n",
       "      <td>527.709651</td>\n",
       "    </tr>\n",
       "    <tr>\n",
       "      <td>a366</td>\n",
       "      <td>382.479341</td>\n",
       "    </tr>\n",
       "  </tbody>\n",
       "</table>\n",
       "</div>"
      ],
      "text/plain": [
       "          Tumor Volume (mm3)\n",
       "Mouse ID                    \n",
       "a203              563.127077\n",
       "a251              552.370946\n",
       "a262              586.116306\n",
       "a275              527.709651\n",
       "a366              382.479341"
      ]
     },
     "execution_count": 98,
     "metadata": {},
     "output_type": "execute_result"
    }
   ],
   "source": [
    "# Calculate the final tumor volume of each mouse across four of the most promising treatment regimens. Calculate the IQR and quantitatively determine if there are any potential outliers. \n",
    "tumor_volume = study_data.groupby(\"Mouse ID\")[\"Tumor Volume (mm3)\"].sum()\n",
    "tumor_volume_df=pd.DataFrame(tumor_volume)\n",
    "\n",
    "tumor_volume_df.sort_values(by=['Tumor Volume (mm3)'], ascending=True                                                                                                                                                    )\n",
    "tumor_volume_df.head()"
   ]
  },
  {
   "cell_type": "code",
   "execution_count": 99,
   "metadata": {},
   "outputs": [
    {
     "name": "stdout",
     "output_type": "stream",
     "text": [
      "The lower quartile of Capomulin is: 32.37735684\n",
      "The upper quartile of Capomulin is: 40.1592203\n",
      "The interquartile range of Capomulin is: 7.781863460000004\n",
      "Values below 20.70456164999999 could be outliers\n",
      "Values above 51.83201549 could be outliers\n",
      "The smallest tumor of Capomulin is: 23.34359787\n",
      "The largest tumor of Capomulin is: 47.68596303\n",
      "\n",
      "-------------------------------------------------------------\n",
      "\n",
      "The lower quartile of Ramicane is: 31.56046955\n",
      "The upper quartile of Ramicane is: 40.65900627\n",
      "The interquartile range of Ramicane is: 9.098536719999998\n",
      "Values below 17.912664470000003 could be outliers\n",
      "Values above 54.30681135 could be outliers\n",
      "The smallest tumor of Ramicane is: 22.05012627\n",
      "The largest tumor of Ramicane is: 45.22086888\n",
      "\n",
      "-------------------------------------------------------------\n",
      "\n",
      "The lower quartile of Infubinol is: 54.04860769\n",
      "The upper quartile of Infubinol is: 65.52574285\n",
      "The interquartile range of Infubinol is: 11.477135160000003\n",
      "Values below 36.83290494999999 could be outliers\n",
      "Values above 82.74144559000001 could be outliers\n",
      "The smallest tumor of Infubinol is: 36.321345799999996\n",
      "The largest tumor of Infubinol is: 72.2267309\n",
      "***There is an outlier for Infubinol.***\n",
      "\n",
      "-------------------------------------------------------------\n",
      "\n",
      "The lower quartile of Ceftamin is: 48.72207785\n",
      "The upper quartile of Ceftamin is: 64.29983003\n",
      "The interquartile range of Ceftamin is: 15.577752179999997\n",
      "Values below 25.355449580000002 could be outliers\n",
      "Values above 87.66645829999999 could be outliers\n",
      "The smallest tumor of Ceftamin is: 45.0\n",
      "The largest tumor of Ceftamin is: 68.92318457\n",
      "\n",
      "-------------------------------------------------------------\n",
      "\n"
     ]
    }
   ],
   "source": [
    "# Calculate the IQR and quantitatively determine if there are any potential outliers. \n",
    "\n",
    "max_timepoint_df = study_data.loc[study_data.groupby(\"Mouse ID\").Timepoint.idxmax()]\n",
    "drug_list = [\"Capomulin\", \"Ramicane\", \"Infubinol\", \"Ceftamin\"]\n",
    "\n",
    "\n",
    "for drug in drug_list:\n",
    "    drug_df = max_timepoint_df[max_timepoint_df[\"Drug Regimen\"] == drug]\n",
    "\n",
    "    quartiles = drug_df[\"Tumor Volume (mm3)\"].quantile([.25,.5,.75])\n",
    "    lowerq = quartiles[0.25]\n",
    "    upperq = quartiles[0.75]\n",
    "    iqr = upperq-lowerq\n",
    "\n",
    "    print(f\"The lower quartile of {drug} is: {lowerq}\")\n",
    "    print(f\"The upper quartile of {drug} is: {upperq}\")\n",
    "    print(f\"The interquartile range of {drug} is: {iqr}\")\n",
    "\n",
    "    lower_bound = lowerq - (1.5*iqr)\n",
    "    upper_bound = upperq + (1.5*iqr)\n",
    "    print(f\"Values below {lower_bound} could be outliers\")\n",
    "    print(f\"Values above {upper_bound} could be outliers\")\n",
    "    \n",
    "    min_tumor = drug_df[\"Tumor Volume (mm3)\"].min()\n",
    "    max_tumor = drug_df[\"Tumor Volume (mm3)\"].max()\n",
    "    \n",
    "    print(f\"The smallest tumor of {drug} is: {min_tumor}\")\n",
    "    print(f\"The largest tumor of {drug} is: {max_tumor}\")\n",
    "    \n",
    "    if min_tumor < lower_bound or max_tumor > upper_bound:\n",
    "        print(f\"***There is an outlier for {drug}.***\")\n",
    "    print(\"\\n-------------------------------------------------------------\\n\")\n"
   ]
  },
  {
   "cell_type": "code",
   "execution_count": 100,
   "metadata": {},
   "outputs": [
    {
     "data": {
      "image/png": "iVBORw0KGgoAAAANSUhEUgAAAX4AAAEWCAYAAABhffzLAAAABHNCSVQICAgIfAhkiAAAAAlwSFlzAAALEgAACxIB0t1+/AAAADh0RVh0U29mdHdhcmUAbWF0cGxvdGxpYiB2ZXJzaW9uMy4xLjEsIGh0dHA6Ly9tYXRwbG90bGliLm9yZy8QZhcZAAAgAElEQVR4nO3deZwcVbn/8c+XsErYlyGskUXEBQLk4oJgAsiPCwqioiJeg6K5uC9XkOsGKHLBq4KKV+SCGkUM20UQMIAhI0RZQ0IQArIFWUIihG0gQoDn98c5QzqTnu6aSVVPevr7fr3mNd3VVaeePl319OlTVacUEZiZWedYaagDMDOz1nLiNzPrME78ZmYdxonfzKzDOPGbmXUYJ34zsw7jxN/mJH1D0ulDHQeApD0k3SOpR9I7l6OcMyV9tczY2oGkEyT9cjnLmCDpDw1e30fS3OVZx3AiaWtJPUMdR6t1ZOLPian372VJi2qeHzbU8fUl6WBJt0p6WtJjkv4oaUuAiPh2RBw51DFmJwCnRMTIiLi074uSHpL0T0nr9Zl+m6SQtDlARHw8Ik4sM7AykmqBdTwkaVyV62gmIiZFxL/meFbO9Tp6sOVJmp4/s2fy9nezpKMlrVpWzAVi+Likl/L++ZSkmZL+tYyyI+K+iBhZRlntpCMTf05MI/MH/nfgXTXTfjNUcUlauc607YFfAJ8H1gFeDZwOvNza6ArZCri9yTwPAB/sfSJpF6BlSaQ/klaS1JH7QwFHRsRawKbA0cCHgUslqd7M9bbjElyb99f1gDOB8yStVcF6OoI39DoknS3puJrnS/08zi27L0v6a26FnCGpS9IVuVV0paR1a+Z/t6TbJT0p6eqczGvLOkrSbcBzdcLZGbgnIrojeSYiLoiIh/Lyr7RkJZ3e59fMi5K+nl/bXNJFkv4h6X5Jn66J4c2Sbsmxz5f03w3q5sjcnfO4pN9JGpWnzwW2BP6Q1z2inyJ+DXyk5vlHgF81qf/3SJqV47tH0r55+rqSfiFpXq7Hb9VL3rnb6WjgsBzbjDx9uqRvS7oOeBbYslGZkraTNC2/98ck/VrSOvm135ISY+/7/1Kevruk6/NnP0vSnjVxbS3p2tyavgLYoEG9/1nSQfnxuNyS762H/STdnB9/XFJ3Xuya/P/2HNN7a8o7Om8Lj0iq/Tz6FRE9EXE1cBCwB/D/clknSDpX0m8lPQN8uMA+NDbXxzOSJks6v3b+BjG8TNqGRgLb1pTXqJ63yZ/1M3nf/GnNPrOtpKiZd3r+zK+X9GzexjfI7+1pSTco/9rO879O6Rf4Qkl39qnjsyX9SNIf8rqvk/Tq/NpK+bUFSr9iZkt6XZHPoRQR0dF/wFxgnz7TzgaOq3m+DzC35vlDwF+AjYHNgceBm4GdgNWBPwFfy/PuAPQAewGrAF8F/gasUlPWjFzOGnXi2w54Hvg+MB5Ys8/rJwC/rLPcrsA/gB2BEcCsvO5VSTvMXGDvPO9NwKH58VrAm/qpq32BBcCY/D7/B7i6T72Ma1DXDwHjgHvy+1oZeBgYDQSwed/6B94KPAnsTWqobAFsn1+7NMfwKmCTXI9H9LPuZeoJmJ7rYYf82azcqEzgNTmOVfNn/2fge/29/xzr46QEuRKwH/AYsEF+/Ubgv4HV8mfbU++zzPOeSOpGA/gmcC/wnZrXvp8ffxzozo9XzvU6us+2/CJwbH7PB5K+9NbuZ73TgcPrTP9LzfpPAF4A3pXf5xo02Ify+30I+EyO4RBgce38fdbV9z19nrRPbDiAej45f257As/01jNpX4g+7/dvwNakXxd3Anflz2dl4Bzgf2v2lYdJjZeVSfvc4yzZPs/OcYzN7/Nc4Oz82gE5rnVyzK8DNmlV3nOLf/B+GBELIrW8pwPXRcStEfFP4Hekljqkbo1LIuLqiFgMnASsDbypT1kPRcSiviuJiLtJG92WwPnA45J+LulV/QUmqQu4CPhkRMwG3kzasU+MiBci4h7gLJZ0uSwGtpO0QaRfFDf0U/RhwJkRMSu/z2OAtyv3zQ/A2aSdZT9gNvBog3mPIO1oUyPi5Yh4MCLukrQZKQl/MSKei4hHgVNr3lNRP4+IOfmz6WpUZkT8LcfxQkQsAE4B3t6g7I+QPvsrcuxTgFuB/SRtTfoCPTYino+IacDlDcr6U8269gT+q+b52/PrRf0TOCEiFkfEJaQk+poBLA/wCLB+zfPpEfH7/D6X2Y772B14OSJOyzGcT/qCbeRtkp4EFpHe+4ci4rH8WrN63on0pfJCRFwDXNZkXWdF6vt/ArgC+FtETIuIF0n7YO++fWB+7VcR8WJEzCDt+++rKeuCiLg5b1+/IX3mkPa5tYHXAkTEHXl7awkn/sGbX/N4UZ3nvQeMNiX1awOv/FR9CNisZv4HG60oIv4SEYdExIaknX4v4D/rzat00O1CUovmgjx5K1I3xpO9f6Suj03y6x8ltTjuknSjpP37CaXve3kaeKLPeyniV6QvkQn06eapYwtS67avrUgtx/k17+knpOQ9ELV137BMSZtIOk/Sw5KeBn4JbNig7K2AQ/vU+5tJ9bgp8HhE1HbvPVCvkOzPwOslbQS8AZgEbC1pA1JL89rib5nHIuKlmufPsWR7LWozYGHN84bbcB+bkvaBWs2Wnx4R65K+bC4H3lbzWpF6rv0yarauovv2VsDufdb7AWBUzfy1yfyVeo6IK0nH6n5K2t5OVwuPWVRxEGY4eJb0U7/XJv3NWMAjpG4NIPXtkbp1Hq6Zp/AQqRFxo6TfkXb+en5C+nl5bM20B4G7I2KHfsq8C/hgju0Q4EJJ6+VWfd/3slXNe1mL9HP4YQYgIu6T9AjwDpbu76/nQWCbfqY/B6yfv0ybrrbA9GZlnkxqHb8xIhZKeh/wvQbreBD4RUR8sm9BkrYBNpC0Rk1S2pKUWJYNMqJH0izgi8CsiFgs6QbgP4A7c+u00XsrjdJZQmOA4xusq9E+NI+0D9TaguYnBhARz0j6JHCvpF/kX7RF6nn1mu15C9KvnuX1IDA18llUAxURpwKn5l/o5wNfYuk6rYxb/PXNAg6QtJ7SwcvPLUdZ5wEH5gNyqwBHkfoY++tOWYqkt+cDdhvn5zuQ+lKvrzPvp4G3AP8WuSMxuw54QdJ/SFpd0ghJb5S0a17u3yRtmJPdU6SduF7i+y1whKQdJa1G+sl9be7uGqjDSccYmnULnAV8XNL4fEBsc0nbR8SDpO6N70laO7+2be1BvT7mA6Ol+meiABQocy1SQntK0hbAl+usY+ua578GDpb0jlznq+f3sWlE3Evq5jpO0qp5HQc0qYs/kfrFe7t1uvs87/t+XiL1OW9d7/WBkrSm0umqvyP9ArmiweyN9qHpwAhJn1Q65fS9pF8thUTEP4CfA9/Ik5rV823Asbme30bzei7qEtKvsA9JWiX/7aaakzf6k+fbTekMqGdJx0hearJYaZz46/slMIf003sKMHmwBUXE7aQujZ+SDrbuBxyY+/yKeAI4GPir0oUml5O+TL5fZ95DSb8u5mnJmT1H577J/YHdSAczHwN+RupjJL82R+mMjO8BH4iIF+q8lynAt0jHD+aRWqiDuu4hIu7JfaLN5vsL8AngR6QvpWmkFhuk0wrXBO4g1dP59P/r7FzSwb2Fkm5ssMpGZR5LqsOnSDv9hX2WPRE4Pv/s/0JEzCV9dt8gffZ/J7XQe/e7D5L6uxcCXyMlsEb+RPryuaaf5/UcC5yTY3pPk/L7c3reNh4FfkCqywP6NC76+iX97EMR8TypXo4k1fH7Sdv18wOI6RRSg+r1Ber5UFIX6eOk+jh3gOuqKyKeIh1Q/jBpf3iU1BharcDi65IaNU+S9sl5+T21hBp/dmZm1VM6xfbUiGj25VfGui4kdZd9u+p1rajc4jezlstdn125q+cI0tktV1a0rt0kvTp33e0PvBO4uIp1tQsf3DWzobADqctlTdJZW++NiPmNFxm0TUndcuuTzib6RD4o3LHc1WNm1mHc1WNm1mHaoqtnww03jNGjRw91GE09++yzrLnmmkMdxrDguiyX67Nc7VKfM2bMeCwiNuo7vS0S/+jRo7n55puHOoymuru7GTdu3FCHMSy4Lsvl+ixXu9SnpLpXg7urx8yswzjxm5l1GCd+M7MO48RvZtZhnPjNzDqME7+ZWYdx4jcz6zBO/GZmHaYtLuAys/41uLfMgHnsrs7gFr9Zm4uIpn9bfeXSQvNZZ3DiNzPrME78ZmYdxonfzKzDOPGbmXWYyhK/pO0lzar5e1rSFyStL+kqSXfn/+tVFYOZmS2rssQfEXdFxJiIGAPsCjwHXAQcA0yNiO2Aqfm5mZm1SKu6evYG7o2IB4CDgEl5+iTg3S2KwczMaN0FXB8Efpsfd0XEPICImCdp43oLSJoITATo6uqiu7u7FXEul56enraIsx24Lsvn+ixPu2+fqvqiDUmrAo8Ar4+I+ZKejIh1a15/IiIa9vOPHTs2fOvFzuK6LNfoYy5j7kkHDHUYw0a7bJ+SZkTE2L7TW9HV86/ALRExPz+fL2lUDmoUsKAFMZiZWdaKxH8oS7p5AC4BJuTHE4CLWxCDmZlllfbxS3oV8A7g32smnwScJ+kI4O/AIVXGYGZWVJkD3sGKO+hdpS3+iHguIjaIiKdqpj0eEXtHxHb5/8IqYzAzK6rIQHbDYdA7X7lrZtZhnPjNzDqME7+ZWYdx4jcz6zBO/GZmHcaJ38yswzjxm5l1GCd+M7MO48RvZtZhnPjNzDqME7+ZWYdx4jcz6zCtugOXmQ3QTsdfyVOLFpdW3uhjLiulnHXWWIVbj923lLJsaDjxm62gnlq0uLS7ZpV5x6iyvkBs6Lirx8yswzjxm5l1GHf1mFlH8DGTJZz4zawj+JjJEu7qMTPrME78ZmYdxonfzKzDOPGbmXUYJ34zsw7jxG9m1mGc+M3MOowTv5lZh3HiNzPrME78ZmYdxonfzKzDOPGbmXWYShO/pHUlXSDpTklzJL1F0vqSrpJ0d/6/XpUxmJnZ0qpu8f8QmBIRrwV2AuYAxwBTI2I7YGp+bmZmLdJ0WGZJqwL7A3sAmwKLgL8Cl0fEnQ2WWxvYEzgcICJeAF6QdBAwLs82CegGvjLYN2BmZgOjiOj/RenrwHuBa4AZwAJgdeA1wHhAwJcj4q91lh0DnAHcQWrtzwA+DzwcEevWzPdERCzT3SNpIjARoKura9fJkycP8i22Tk9PDyNHjhzqMIYF1yV89oHPDnUI/frxVj8e6hAG7PApz/LL/dYspawyt88y4+pr/PjxMyJibN/pzRL/QRFxcYPXRwFbRMSNdV4bC1wP7B4RN0j6IfA08Nkiib/W2LFj4+abb240ywqhzJszdDrXZbpBx4p645Cy4mqlN05641CH0K/bJtxWSbmS6ib+hl09jZJ+fn0eMK+flx8CHoqIG/LzC0j9+fMljYqIefmLY0HT6M3MltMzc05aYb9IW63hwV1JG0v6saQfSlpP0tclzZR0jqRNGi0bEY8CD0raPk/am9TtcwkwIU+bADT8cjEzs3I1O6tnEnAfqVU+DQhSn/9NwE8LlP9Z4DeSZgNjgBOBk4B3SLobeEd+bmZmLdLsrJ5REXEKgKQjI+I7efopkiY0WA6AiJgFLNO/RGr9m5nZEGjW4lfN47MHuKyZma2AmiXvSyWNBIiI/+ydKGlb4N4qAzMzs2o0O6vna/1Mvwc4uJKIzMysUk2v3IVXrsL9MDC6dpmI+FI1YZmZWVUKJX7gcuAW4Dbg5erCMTOzqhVN/K+KiM9VGomZmbVE0TNzzpH0UUkbSVq796/SyMzMrBJFW/w9wKnAt0kXcZH/b1lFUGZmVp2iif8oYLuI8Lg6ZmZtrmhXzx2kkTXNzKzNFW3xvwDMlHQ18HzvRJ/OaWbWfgZyOuflVQZiZmatUSjxR8RZVQdiZmatUaiPX9J+km6StEDSQklPSFpYdXBmZla+ol09pwHvx1fumpm1vaKJ/yFgVkQ46ZuZtbmiif9o4PeSuln6rJ4fVRGUmZlVp2jiPx5YDKyLu3rMzNpa0cS/cUTsWmkkZraM0cdcVl5hU8opa501VimlHBs6RRP/VEl7RcTVlUZjZq+Ye9IBpZU1+pjLSi3P2lvRIRs+AfxRUo9P5zQza29FW/wbVhqFmZm1TMMWv6QtACLipXp/SjZtTahmZlaGZi3+H0paDFwMzAD+AawObAuMB/YFvgU8UmWQZmZWnoaJPyLeI2lH4DDgU8Ao4DlgDmnQtn0iYlHlUZqZWWma9vFHxGxgdgtiMTOzFih6Vo+ZmQ0TTvxmZh3Gid/MrMMUTvySPijpa/nxFpI8hIOZWRsqeiOW00inb344T3oWOL2qoMzMrDpFr9x9a0TsImkmQEQslLRqs4UkzQWeAV4CXoyIsZLWB84FRgNzgfdHxBODiN3MzAahaFfPYkkrAQEgaQOKD888PiLGRMTY/PwYYGpEbAdMzc/NzKxFiib+nwAXAhtJOh6YDpw8yHUeBEzKjycB7x5kOWZmNgiFunoi4leSZgD7AAIOiYi/FlkUuFJSAD+LiDOAroiYl8udJ2njegtKmghMBOjq6qK7u7tIqEOqp6enLeJsB67L8rk+y6uDsrfPVn82Rfv4AR4ErsrLrCRpx3xVbyO7R8QjOblfJenOoivLXxJnAIwdOzbGjRs3gFCHRnd3N+0QZztwXZZsymWuzxLroNTtcwg+m0KJX9KxpNb3/eR+/vx/z0bLRcQj+f8CSRcBuwHzJY3Krf1RwILBBm9mZgNXtMX/IWDriHi+6ZyZpDWBlSLimfy4dyTPS4AJwEn5/8UDC9nMzJZH0cR/O7AWUDjxA13ARZJ613NOREyRdBNwnqQjgL8DhwygTDMzW05FE/93gJmSZlOT/CPiPf0tEBH3ATvVmf44sPcA4zQzW26+eX1SNPFPAk4BbqP4+ftmZisM37x+iaKJf2FE/KDSSMzMrCWKJv6bJH2bdGC2tqvHN2gxM2szRRP/bvn/uJppTU/nHC7yAerSRETzmczMKlL0yt09qg5kRVY0Ubd7v5+ZdYaiF3B9td70iDix3HDMzKxqRbt6Xqp5vDpwAOncfjMzazNFu3qWGolT0snA7yqJyMzMKjXYe+6uBmxTZiBmZtYaRfv4Z7JkcLYRwCjA/ftmZm2oaB//+2oevwg8OpAB28zMbMXRMPFLWjs//Eefl1aTtFpEPF1NWGZWVNHrTFTgnnm+xqQzNGvx307q4qm3ZQWwZekRmdmAFEnWvrGN1WqY+CNii1YFYp3DV0KbDa3Ct16UtD9Lhmjojogp1YRkw12RRO2roG0oDKRR0s5dZ4VO55T0HeBo4L78d7SkE6oMzMys1SKi0N+0adMKzbeiKtrifxewc0S8BCDp58AtwNerCszMzKoxkAu41q55vFbZgZiZWWsUbfF/F7hF0lTSGT7jgG9WFZSZmVWn6Fg9Z0uaBryJlPi/GREPVxqZmZlVotkFXLcC5wCTI+IB4P9aEpWZmVWmWR//x4ANgT9J+rOkz0jauAVxmZlZRRom/oiYERFHRcRo0umc25P6+q+U9NFWBGhmZuUqfFZPRPw5Ij4LHApsBPyssqjMzKwyRYdl3pmU8A8BHgF+DpxXYVxmZlaRZgd3vwV8AFgETAbG5YO8ZmbWppq1+AUcHBF3tCIYMzOrXrPROb/RqkDMzKw1BnvPXTMza1NNE7+SUa0IxszMqtc08UcaW/TSwa5A0ghJMyVdmp+/WtINku6WdK6kVQdbtpmZDVzRQdpulLRLRNwyiHV8HpjDktE9TwZOiYjJkk4HjgB+OohybQW00/FX8tSixaWUNfqYy0opZ501VuHWY/ctpSyz4aBo4n8b8AlJ9wLPks72iYjYpdFCkjYHDgC+A3xJ6fY2ewEfyrNMAo7DiX/YeGrR4lLunFXmPWLL+gIxGy6KJv53D7L8U0lDPfSO378B8GREvJifPwRsVm9BSROBiQBdXV10d3cPMoTGPj31WZ4tp4EKlJdk1lwFfrL3mqWU1WplfFY9PT2lfuZVbT/touz67HTtXp9Fh2W+V9IbSC1/gGsj4vZGy0h6J7AgImZIGtc7uV7x/azzDOAMgLFjx0ZZrb++np1S3r1dy26lVvWeKzWlnLjLrMuyYmpnpdantX19Fr3n7mdIQzRsmf/Ok/SpJovtDhwoaS7pqt+9SL8A1pXU+4WzOWkICDMza5Gi5/FPBHaLiK9GxFdJN2Q5stECEfGfEbF5Htnzg8DVEXEYMA14X55tAnDxoCI3M7NBKZr4BdT2hC+mfrdNEV8hHei9h9Tnf9YgyzEzs0EoenD318D1ki7Mzw8mnZFTSER0A9358X3AbsVDNDOzMhU9uPvdfM/dPUgt/SMj4qZKIzMzs0oUbfED3EU6h39lAEk7RsTsSqIyM7PKFL0Ry7GkA7z3s+T0ywD2rCiulllrh2N446RjyiuwcAdYY2vtAOnaNzOzchVt8X8I2Doinq8ymKHwzJyTVtjz+M3MqlD0rJ7bWXL1rZmZtbGiLf7vADMlzQZeafVHxHsqicrMzCpTNPFPAk4BbgNeri4cMyvL6E024YH585eZvlVXF3MffXQIIrIVRdHEvzAiflBpJGZWqgfmz687EJbqfBlYZyma+G+S9G3gEpbu6vHpnLaUUs+S8hlSZpUomvh7r7QdVzNtWJzOaeUq6ywpnyFlVp2iV+7uUXUgZmbWGkUv4PpqvekRcWK54ZiZWdWKnsf/Us3fKqQ7cm1XVVBmtvy26upCsMzfVl1dQxqXDb2iXT0n1z6XdDLwu0oiMrNS1J6y2e53jLJyFW3x97UasE2ZgZiZWWs0bPFLWjkiXpQ0kyWDs40ARgHu3zcza0PNunpuBHZhya0SAV4EHh2OA7aZmXWCZolfABFxbwtiMTOzFmiW+DeS9KX+XvQwDmZm7adZ4h8BjGTwN1Y3M7MVTLPEPy8ivtWSSMzMrCWanc7plr6Z2TDTLPHv3ZIozMysZRom/ohY2KpAzMysNYoOyzyslTps75RyylpnjVVKKcfMrK+OT/xljB3fa/Qxl5VanplZFQY7Vo+ZmbWpjm/xW/lK6zpzt5lZJZz4rVRldXW528ysOu7qMTPrMJUlfkmrS7pR0q2Sbpd0fJ7+akk3SLpb0rmSVq0qBjMzW1aVLf7ngb0iYidgDLCfpDcDJwOnRMR2wBPAERXGYGZmfVSW+CPpyU9XyX8B7AVckKdPIt2/18zMWqTSPn5JIyTNAhYAVwH3Ak9GxIt5loeAzaqMwczMllbpWT0R8RIwRtK6wEXADvVmq7espInARICuri66u7urCrNU7RJnO3Bdlqenp8f1WaJ2r8+WnM4ZEU9K6gbeDKzbey9fYHPgkX6WOQM4A2Ds2LExbty4VoS6fKZcRlvE2Q5cl6Xq7u52fZao3euzyrN6NsotfSStAewDzAGmseQevhOAi6uKwczMllVli38UMEnSCNIXzHkRcamkO4DJkk4AZgJnVRiDmZn1UVnij4jZwM51pt8H7FbVes3MrDFfuWtm1mGc+M3MOowTv5lZh3HiNzPrME78ZmYdxonfzKzDOPGbmXUYJ34zsw7jxG9m1mGc+M3MOowTv5lZh3HiNzPrME78ZmYdxonfzKzDOPGbmXUYJ34zsw7jxG9m1mGc+M3MOowTv5lZh3HiNzPrME78ZmYdZuWhDqAdSCo+78nN54mI5YjGzGz5uMVfQEQU+ps2bVqh+czMhpITv5lZh3HiNzPrME78ZmYdxgd3reWKHiwvcqAcfLDcbKDc4reWK/NAuZO+2cA58ZuZdRgnfjOzDuPEb2bWYSpL/JK2kDRN0hxJt0v6fJ6+vqSrJN2d/69XVQxmZrasKlv8LwL/ERE7AG8GPi3pdcAxwNSI2A6Ymp+bmVmLVJb4I2JeRNySHz8DzAE2Aw4CJuXZJgHvrioGMzNbllpxOpyk0cA1wBuAv0fEujWvPRERy3T3SJoITATo6uradfLkyZXHubx6enoYOXLkUIcxLLguy+X6LFe71Of48eNnRMTYvtMrv4BL0kjgQuALEfF00Yt3IuIM4AyAsWPHxrhx4yqLsSzd3d20Q5ztwHVZLtdnudq9PitN/JJWISX930TE/+XJ8yWNioh5kkYBC5qVM2PGjMckPVBlrCXZEHhsqIMYJlyX5XJ9lqtd6nOrehMrS/xKTfuzgDkR8YOaly4BJgAn5f8XNysrIjaqJMiSSbq53s8qGzjXZblcn+Vq9/qsssW/O/BvwG2SZuVpXyUl/PMkHQH8HTikwhjMzKyPyhJ/REwH+uvQ37uq9ZqZWWO+crdcZwx1AMOI67Jcrs9ytXV9tuR0TjMzW3G4xW9m1mGc+M3MOkxHJH5Jm0iaLOleSXdIulzSa4Y6rl6SuiWNzY8vl7Rus2VWBJJekjRL0l8l/b6suCUdKKljx3CS1FNgnj3y4IezJK3RYL65kjasM/1ISR8ZZHzjJF06mGWHwkD3f0mfy4NL/ia/17eWGMuZecyyITXsE3++nuAioDsitomI15FOK+0a2sjqi4j9I+LJoY6joEURMSYi3gAsBD5dRqERcUlEnFRGWcPYYcD3cv0vGujCEXF6RPyqgrhWKIPc/z8F7B8RhwHjgNISf0R8PCLuKKu8wRr2iR8YDyyOiNN7J0TELGCmpKmSbpF0m6SDII0rJOlOSZMkzZZ0gaRX5df2ljQzz/9zSavl6XMlnSjpOkk3S9pF0hW5hXFknmepVpKk0yQd3jfY3hZajmOOpP/NLbsrG7XsVgDXkQbhQ9LIJnV7Zv6V8BtJ+0j6cx6me7c83+GSTsuPuyRdJOnW/PfWPP13kmbkupnYG4SkHknfyfNeL6krT99I0oWSbsp/u7e4fgYsbzPdeRu8M9eXJH0ceD/wzZpWaaNt6yhJN+a/bfM8x0n6cn7cLenk/PrfJO2Rp68u6Rf5M5wpaXzr3n1p6u7/EXGtpKPytjBb0vEAkk4HtgYukfRF4Ejgi0q/rPaQ9C5JN+T6+GPN9nVczhlX5n34PZK+m+tuitIoBn1/3dfdVluhExL/G4AZdab/Ezg4InYhbRzfl14ZSGh74IyI2BF4GviUpNWBXzcC+HYAAAauSURBVAIfiIg3kq6B+GRNeQ9GxFuAa/N87yMNR/2t5Yh9O+AnEfF64EngvctRVmUkjSBdm3FJntSobrcFfgjsCLwW+BDwNuDLpJZYXz8C/hQROwG7ALfn6R+LiF2BscDnJG2Qp68JXJ/nvwb4RJ7+Q+CUiPgXUj2eudxvvDV2Br4AvI6UkHaPiDNJdX1UbpU283RE7AacBpzazzwr53m+ABybp30aIG/vhwKT8n7QTuru/5L2Je1fuwFjgF0l7RkRRwKPAOMj4hTgdNJ2MyYirgWmA2+OiJ2BycDRNcVuAxxAGoH4bGBarrtFeXpf/W2rleuExN8fASdKmg38kdRa7f3GfTAi/pwfn01KTNsD90fE3/L0ScCeNeX1Jr3bgBsi4pmI+AfwTw2+7/v+/OsE0sY7epDlVGUNpauyHwfWB67K0xvV7f0RcVtEvExK4lMjnVN8G/Xf317ATwEi4qWIeCpP/5ykW4HrgS1IOzHAC0Bv67e2zvYBTsvxXgKsLWmt5XjvrXJjRDyU62sWg9sGflvz/y39zNM7llZtnb0N+DVARNwJPACsMMfGltO++W8mcAupEbJdwyWSzYErJN0GHAW8vua1P0TEYtK2PAKYkqf3t233t61WrhMS/+3ArnWmHwZsBOwaEWOA+UBva6bvxQ1B/1ch93o+/3+55nHv85VJN6apre8iLafacl6iBaOpDtCiXHdbAauypI+/Ud32rZvaeiv0/iSNIyXyt+TW0sya8hfHkotTautspTz/mPy3Wb5PxIquyDbQbNuKfh7XW0/tOooNpbti62//F/BfNdvDthFxVoHyfgycllvy/87Sdf08QP6Srt0O+9u2+9tWK9cJif9qYDVJr/yMkvQvpGS1ICIW577L2lHstpTU2zI6lPTz7k5gdG8fKWkcoj8NII4HgNdJWk3SOgyjYStyK/xzwJdzX+Y69F+3AzWV3KUmaYSktXP5T0TEc5JeS+pSa+ZK4DO9TySNWY6YVjTNtq0P1Py/bgDlXkP6EkfpLJgtgbuWM9ZW62//fxr4mNKw8UjaTNLGdZZ/Bqj9ZbgO8HB+PKGakKs37BN//kY9GHiH0sHW24HjgMuBsZJuJm3cd9YsNgeYkLsq1gd+GhH/BD4KnJ9/5r1M6v8rGseDwHnAbOA3pFbqsBERM4FbgQ+S3l9/dTtQnwfG5zqfQfppPQVYOX8+3yZ19zTzuRzTbEl3kA7aDQsFtq3VJN1AqssvDqDo/wFG5Lo/Fzg8Ip5vsswKpcH+f07+uy6/vwtYOsH3+j1wcO/B3bzs+ZKupT2GZa7LQzb0oXS3sEvzKYpmZsPOsG/xm5nZ0tziNzPrMG7xm5l1GCd+M7MO48RvZtZhnPit7WjJqKC353FOviSpkm05j4PzVB6b5U5J31vO8tpm9FUbvla0K0HNiui9Yph80c05pAtrjq2dSdLKEfFiCeu7NiLeqTRI3kxJF9UM6TEgEbF/CfGYLRe3+K2tRcQCYCLwGSWHSzpf0u+BK9Vg5EpJ++dW/HRJP1KTMebz8MezWDIK6ZpKo7TelH8R9I5C+ipJ5+WLxc7Nozn2jshYO/pqkZFK+1vH4ZL+T2nkx7slfbfsurXhyy1+a3sRcV/u6um95P4twI4RsTCP67OMPMrkz4A9I+J+Sb+tN1+fZdYjDeR1TZ70NeDqiPhY7r65UdIfSUNMPBERO0p6A+nLop5tgUNIX1w3sWSk0gNJI5W+u8E6II0quTNpjJi7JP04X8Vr1pBb/DZc1A4odlVELGwy/2uB+yLi/vy8UeLfIw8P8Sjpqu5H8/R9gWPyiJ/dpAG7tiQl78kAEfFX0lAK9RQZqbS/dZDnfyoPJ3IHyzcmknUQt/it7UnamjS64YI86dmal/sbuXIgI0/29vG/Bpie+/hn5TLeGxFLDVwmqWjZRUYq7W8db2LFH73VVlBu8Vtbk7QRabC806L+Zej9jVx5J7B1HpsJloxg2a98L4b/Ar6SJ10BfLY30UvaOU+fTrpDFkr3V33jAN9Wrf7WYTZobiFYO+q9AcwqpBb9r4Ef1JsxIh6U1Dty5d3kkSsjYpGkTwFTJD0G3Fhw3aeThp9+NWlk0FOB2TkxzwXeSRrVclLuHpqZ1/1U/eKa6m8dZoPmsXqsY0kaGRE9OaH+BLg7325vecsdAawSEf+UtA3pngKviYgXlrdsszK4xW+d7BOSJpDuHjaTdJZPGV4FTFO6KY2ATzrp24rELX4zsw7jg7tmZh3Gid/MrMM48ZuZdRgnfjOzDuPEb2bWYf4/TLHHqkJfTtQAAAAASUVORK5CYII=\n",
      "text/plain": [
       "<Figure size 432x288 with 1 Axes>"
      ]
     },
     "metadata": {
      "needs_background": "light"
     },
     "output_type": "display_data"
    }
   ],
   "source": [
    "# Generate a box plot of the final tumor volume of each mouse across four regimens of interes\n",
    "drug_dict = {}\n",
    "\n",
    "for drug in drug_list:\n",
    "    drug_df = max_timepoint_df[max_timepoint_df[\"Drug Regimen\"] == drug]\n",
    "    \n",
    "    drug_dict[drug] = drug_df[\"Tumor Volume (mm3)\"].values\n",
    "\n",
    "box_plot_df = pd.DataFrame(drug_dict)\n",
    "red_square = dict(markerfacecolor='r', marker='s')\n",
    "box_plot = box_plot_df.boxplot(flierprops=red_square)\n",
    "box_plot.set_title(\"Tumor Sizes of Mice treated with Drug Regimens\")\n",
    "box_plot.set_ylabel(\"Tumor Volume (mm3)\")\n",
    "box_plot.set_xlabel(\"Drug Regimen\")\n",
    "plt.savefig(\"box_plot.png\")"
   ]
  },
  {
   "cell_type": "markdown",
   "metadata": {},
   "source": [
    "## Line and scatter plots"
   ]
  },
  {
   "cell_type": "code",
   "execution_count": 101,
   "metadata": {},
   "outputs": [
    {
     "data": {
      "image/png": "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\n",
      "text/plain": [
       "<Figure size 432x288 with 1 Axes>"
      ]
     },
     "metadata": {
      "needs_background": "light"
     },
     "output_type": "display_data"
    }
   ],
   "source": [
    "# Generate a line plot of time point versus tumor volume for a mouse treated with Capomulin\n",
    "mouse_df = study_results.groupby(\"Mouse ID\")\n",
    "mouse_s185 = study_results[study_results[\"Mouse ID\"] == \"s185\"]\n",
    "\n",
    "x_axis = mouse_s185[\"Timepoint\"]\n",
    "y_axis = mouse_s185[\"Tumor Volume (mm3)\"]\n",
    "\n",
    "plt.plot(x_axis, y_axis, marker ='o', color='green')\n",
    "plt.xlabel(\"Timepoint\")\n",
    "plt.ylabel(\"Tumor Volume (mm3)\")\n",
    "plt.title(\"Mouse s185, Tumor Volume over Time\")\n",
    "plt.ylim(20.5, 55.5)\n",
    "plt.xlim(-2, 43)\n",
    "plt.minorticks_on()\n",
    "plt.grid(which='major', linestyle='-')\n",
    "plt.grid(which='minor', linestyle=':')\n",
    "plt.savefig(\"line_plot.png\")"
   ]
  },
  {
   "cell_type": "code",
   "execution_count": 102,
   "metadata": {},
   "outputs": [
    {
     "data": {
      "image/png": "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\n",
      "text/plain": [
       "<Figure size 432x288 with 1 Axes>"
      ]
     },
     "metadata": {
      "needs_background": "light"
     },
     "output_type": "display_data"
    },
    {
     "data": {
      "text/plain": [
       "<Figure size 432x288 with 0 Axes>"
      ]
     },
     "metadata": {},
     "output_type": "display_data"
    }
   ],
   "source": [
    "# Generate a scatter plot of mouse weight versus average tumor volume for the Capomulin regimen\n",
    "capomulin_df = study_data.loc[study_data[\"Drug Regimen\"] == \"Capomulin\",:]\n",
    "capomulin_avg_df = capomulin_df.groupby(['Mouse ID']).mean()\n",
    "\n",
    "plt.scatter(capomulin_avg_df['Weight (g)'],capomulin_avg_df['Tumor Volume (mm3)'])\n",
    "plt.xlabel('Weight (g)')\n",
    "plt.ylabel('Average Tumor Volume (mm3)')\n",
    "\n",
    "plt.savefig('Avg Tumor Vol vs Weight-Capomulin')\n",
    "plt.show()\n",
    "plt.savefig(\"scatter_plot.png\")"
   ]
  },
  {
   "cell_type": "code",
   "execution_count": 103,
   "metadata": {},
   "outputs": [
    {
     "name": "stdout",
     "output_type": "stream",
     "text": [
      "The correlation between mouse weight and average tumor volume is 0.84\n"
     ]
    }
   ],
   "source": [
    "# Calculate the correlation coefficient and linear regression model for mouse weight and average tumor volume for the Capomulin regimen\n",
    "corr=round(st.pearsonr(capomulin_avg_df['Weight (g)'],capomulin_avg_df['Tumor Volume (mm3)'])[0],2)\n",
    "print(f\"The correlation between mouse weight and average tumor volume is {corr}\")\n"
   ]
  },
  {
   "cell_type": "code",
   "execution_count": 104,
   "metadata": {},
   "outputs": [
    {
     "name": "stdout",
     "output_type": "stream",
     "text": [
      "The r-squared is: 0.8419363424694718\n"
     ]
    },
    {
     "data": {
      "image/png": "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\n",
      "text/plain": [
       "<Figure size 432x288 with 1 Axes>"
      ]
     },
     "metadata": {
      "needs_background": "light"
     },
     "output_type": "display_data"
    },
    {
     "data": {
      "text/plain": [
       "<Figure size 432x288 with 0 Axes>"
      ]
     },
     "metadata": {},
     "output_type": "display_data"
    }
   ],
   "source": [
    "# Add the linear regression equation and line to plot\n",
    "x_values = capomulin_avg_df['Weight (g)']\n",
    "y_values = capomulin_avg_df['Tumor Volume (mm3)']\n",
    "(slope, intercept, rvalue, pvalue, stderr) = st.linregress(x_values, y_values)\n",
    "regress_values = x_values * slope + intercept\n",
    "line_eq = \"y = \" + str(round(slope,2)) + \"x + \" + str(round(intercept,2))\n",
    "plt.scatter(x_values,y_values)\n",
    "plt.plot(x_values,regress_values,\"r-\")\n",
    "plt.annotate(line_eq,(6,10),fontsize=15,color=\"red\")\n",
    "plt.xlabel('Weight (g)')\n",
    "plt.ylabel('Average Tumor Volume (mm3)')\n",
    "\n",
    "plt.ylim(35, 46.5)\n",
    "plt.xlim(14, 26)\n",
    "\n",
    "# Print out the r-squared value along with the plot.\n",
    "print(f\"The r-squared is: {rvalue}\")\n",
    "plt.savefig('Avg Tumor Vol vs Weight-Capomulin w regression')\n",
    "plt.show()\n",
    "plt.savefig(\"linear_regression_plot.png\")"
   ]
<<<<<<< HEAD
  }
=======
  },
>>>>>>> cfb78a8cb545054e68163e0ca61cf81fe996bc35
 ],
 "metadata": {
  "anaconda-cloud": {},
  "kernelspec": {
   "display_name": "Python 3",
   "language": "python",
   "name": "python3"
  },
  "language_info": {
   "codemirror_mode": {
    "name": "ipython",
    "version": 3
   },
   "file_extension": ".py",
   "mimetype": "text/x-python",
   "name": "python",
   "nbconvert_exporter": "python",
   "pygments_lexer": "ipython3",
   "version": "3.7.6"
  }
 },
 "nbformat": 4,
 "nbformat_minor": 2
}
